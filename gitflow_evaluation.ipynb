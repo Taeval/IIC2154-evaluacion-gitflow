{
 "cells": [
  {
   "cell_type": "code",
   "execution_count": null,
   "id": "f52f4030",
   "metadata": {},
   "outputs": [],
   "source": [
    "import re\n",
    "import pandas as pd\n",
    "from pandas.io.json import json_normalize"
   ]
  },
  {
   "cell_type": "code",
   "execution_count": null,
   "id": "ee6a4476",
   "metadata": {},
   "outputs": [],
   "source": [
    "#Data preprocessing made following this guide: https://www.kaggle.com/code/prathamsharma123/clean-raw-json-tweets-data\n",
    "def data_preprocessing(data):\n",
    "    users = json_normalize(data[\"user\"])\n",
    "    users.rename(columns={\"id\":\"userId\", \"url\":\"profileUrl\"}, inplace = True)\n",
    "    users = pd.DataFrame(users)\n",
    "    users.drop_duplicates(subset = [\"userId\"], inplace = True)\n",
    "    user_id = []\n",
    "    user_names = []\n",
    "    for user in data[\"user\"]:\n",
    "        uid = user[\"id\"]\n",
    "        user_id.append(uid)\n",
    "        uname = user[\"username\"]\n",
    "        user_names.append(uname)\n",
    "    data[\"userId\"] = user_id\n",
    "    data[\"userName\"] = user_names\n",
    "    \n",
    "    data['date'] = data['date'].apply(lambda x: pd.Timestamp(x).strftime('%Y-%m-%d'))\n",
    "    \n",
    "    return data"
   ]
  },
  {
   "cell_type": "code",
   "execution_count": null,
   "id": "d2047a51",
   "metadata": {},
   "outputs": [],
   "source": [
    "#Top 10 tweets by number of retweets\n",
    "def query1(data):\n",
    "    data = data.sort_values(by = \"retweetCount\", ascending = False)\n",
    "    return data"
   ]
  },
  {
   "cell_type": "code",
   "execution_count": null,
   "id": "64226ffb",
   "metadata": {},
   "outputs": [],
   "source": [
    "#Top 10 users by number of tweets\n",
    "def query2(data):\n",
    "    grouped = data.groupby(by = [\"userId\", \"userName\"]).size().reset_index(name = \"tweetCount\")\n",
    "    grouped = grouped.sort_values(by = \"tweetCount\", ascending = False)\n",
    "    return grouped"
   ]
  },
  {
   "cell_type": "code",
   "execution_count": null,
   "id": "510d37b3",
   "metadata": {},
   "outputs": [],
   "source": [
    "#Top 10 dates by number of tweets\n",
    "def query3(data):\n",
    "    grouped = data.groupby(by = \"date\").size().reset_index(name = \"tweetCount\")\n",
    "    grouped = grouped.sort_values(by = \"tweetCount\", ascending = False)\n",
    "    return grouped"
   ]
  },
  {
   "cell_type": "code",
   "execution_count": null,
   "id": "3c1e0eb9",
   "metadata": {},
   "outputs": [],
   "source": [
    "#Top 10 hashtags by number of uses\n",
    "def query4(data):\n",
    "    hashtags = []\n",
    "    for tweet in data[\"content\"]:\n",
    "        matches = re.findall('#[a-zA-Z0-9_]+', tweet)\n",
    "        hashtags.extend(matches)\n",
    "    hashtags = pd.DataFrame(hashtags, columns = [\"Hashtag\"])\n",
    "    grouped = hashtags.groupby(by = \"Hashtag\").size().reset_index(name = \"count\")\n",
    "    grouped = grouped.sort_values(by = \"count\", ascending = False)\n",
    "    return grouped"
   ]
  },
  {
   "cell_type": "code",
   "execution_count": null,
   "id": "07d19e17",
   "metadata": {},
   "outputs": [],
   "source": [
    "def main():\n",
    "    print(\"Loading data. This may take a few minutes...\")\n",
    "    raw_data = pd.read_json(\"farmers-protest-tweets-2021-03-5.json\", lines = True)\n",
    "    print(\"Data loaded. Preprocessing data...\")\n",
    "    tweets = data_preprocessing(raw_data)\n",
    "    print(\"Data processed.\")\n",
    "    while True:\n",
    "        query = input(\"Please enter query ID (1, 2, 3, 4) or press -1 to exit.\")\n",
    "        if query == \"1\":\n",
    "            print(\"Top 10 tweets by number of retweets:\")\n",
    "            result = query1(tweets)\n",
    "            display(result.head(10))\n",
    "        elif query == \"2\":\n",
    "            print(\"Top 10 users by number of tweets:\")\n",
    "            result = query2(tweets)\n",
    "            display(result.head(10))\n",
    "        elif query == \"3\":\n",
    "            print(\"Top 10 dates by number of tweets:\")\n",
    "            result = query3(tweets)\n",
    "            display(result.head(10))\n",
    "        elif query == \"4\":\n",
    "            print(\"Top 10 hashtags by number of uses:\")\n",
    "            result = query4(tweets)\n",
    "            display(result.head(10))\n",
    "        elif query == \"-1\":\n",
    "            break\n",
    "        else:\n",
    "            print(\"Invalid value. Please try again.\")\n",
    "    "
   ]
  },
  {
   "cell_type": "code",
   "execution_count": null,
   "id": "7ebf1d84",
   "metadata": {},
   "outputs": [],
   "source": [
    "if __name__ == \"__main__\":\n",
    "    main()"
   ]
  }
 ],
 "metadata": {
  "kernelspec": {
   "display_name": "Python 3",
   "language": "python",
   "name": "python3"
  },
  "language_info": {
   "codemirror_mode": {
    "name": "ipython",
    "version": 3
   },
   "file_extension": ".py",
   "mimetype": "text/x-python",
   "name": "python",
   "nbconvert_exporter": "python",
   "pygments_lexer": "ipython3",
   "version": "3.9.3"
  }
 },
 "nbformat": 4,
 "nbformat_minor": 5
}
