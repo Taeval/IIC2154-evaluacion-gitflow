{
 "cells": [
  {
   "cell_type": "code",
   "execution_count": 2,
   "id": "f52f4030",
   "metadata": {},
   "outputs": [],
   "source": [
    "import pandas as pd\n",
    "from pandas.io.json import json_normalize"
   ]
  },
  {
   "cell_type": "code",
   "execution_count": null,
   "id": "a874d49e",
   "metadata": {},
   "outputs": [],
   "source": [
    "raw_data = pd.read_json(\"farmers-protest-tweets-2021-03-5.json\", lines = True)\n",
    "tweets = data_preprocessing(raw_data)\n",
    "tw"
   ]
  },
  {
   "cell_type": "code",
   "execution_count": null,
   "id": "ddd0947a",
   "metadata": {},
   "outputs": [],
   "source": [
    "def main():\n",
    "    print(\"Loading data. This may take a few minutes...\")\n",
    "    raw_data = pd.read_json(\"farmers-protest-tweets-2021-03-5.json\", lines = True)\n",
    "    print(\"Data loaded. Preprocessing data...\")\n",
    "    tweets = data_preprocessing(raw_data)\n",
    "    print(\"Data processed.\")\n",
    "    query = input(\"Please enter query ID (1, 2, 3, 4)\")\n",
    "    if query == \"1\":\n",
    "        print(\"Top 10 most retweeted:\")\n",
    "    elif query == \"2\":\n",
    "        print(\"Top 10 users\")\n",
    "    "
   ]
  },
  {
   "cell_type": "code",
   "execution_count": null,
   "id": "562fafc6",
   "metadata": {},
   "outputs": [],
   "source": [
    "def data_preprocessing(data):\n",
    "    users = json_normalize(data[\"user\"])\n",
    "    users.rename(columns={\"id\":\"userId\", \"url\":\"profileUrl\"}, inplace = True)\n",
    "    users = pd.DataFrame(users)\n",
    "    users.drop_duplicates(subset = [\"userId\"], inplace = True)\n",
    "    user_id = []\n",
    "    for user in data[\"user\"]:\n",
    "        uid = user[\"id\"]\n",
    "        user_id.append(uid)\n",
    "    data[\"userId\"] = user_id\n",
    "    return data"
   ]
  },
  {
   "cell_type": "code",
   "execution_count": null,
   "id": "a3a4f00d",
   "metadata": {},
   "outputs": [],
   "source": []
  }
 ],
 "metadata": {
  "kernelspec": {
   "display_name": "Python 3",
   "language": "python",
   "name": "python3"
  },
  "language_info": {
   "codemirror_mode": {
    "name": "ipython",
    "version": 3
   },
   "file_extension": ".py",
   "mimetype": "text/x-python",
   "name": "python",
   "nbconvert_exporter": "python",
   "pygments_lexer": "ipython3",
   "version": "3.9.3"
  }
 },
 "nbformat": 4,
 "nbformat_minor": 5
}
